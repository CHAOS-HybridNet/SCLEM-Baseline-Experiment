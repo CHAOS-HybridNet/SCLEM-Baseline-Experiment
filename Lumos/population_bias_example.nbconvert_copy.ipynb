{
 "cells": [
  {
   "cell_type": "markdown",
   "metadata": {},
   "source": [
    "# Example with a regressed target metric due to Population Bias\n",
    "\n",
    "Here is an example of a pair of  Control and Treatment datasets where the regression in target metric is due to population bias. We will see that after the datasets are normalized, there is no more statistical differences between two datasets.  "
   ]
  },
  {
   "cell_type": "code",
   "execution_count": 1,
   "metadata": {
    "execution": {
     "iopub.execute_input": "2024-09-10T13:31:25.065960Z",
     "iopub.status.busy": "2024-09-10T13:31:25.065384Z",
     "iopub.status.idle": "2024-09-10T13:31:25.831253Z",
     "shell.execute_reply": "2024-09-10T13:31:25.829993Z"
    }
   },
   "outputs": [
    {
     "name": "stderr",
     "output_type": "stream",
     "text": [
      "/home/sunyongqian/miniconda3/envs/Lumos/lib/python3.7/site-packages/statsmodels/compat/pandas.py:49: FutureWarning: The Panel class is removed from pandas. Accessing it from the top-level namespace will also be removed in the next version\n",
      "  data_klasses = (pandas.Series, pandas.DataFrame, pandas.Panel)\n"
     ]
    }
   ],
   "source": [
    "import os\n",
    "import pandas as pd\n",
    "import hashlib\n",
    "import json\n",
    "from mct.BiasTester import BiasTester\n",
    "from mct.MetricComparer import MetricComparer"
   ]
  },
  {
   "cell_type": "code",
   "execution_count": null,
   "metadata": {},
   "outputs": [],
   "source": [
    "id='25969'\n",
    "# 创建结果保存的文件夹\n",
    "results_dir = f'results_{id}'\n",
    "os.makedirs(results_dir, exist_ok=True)"
   ]
  },
  {
   "cell_type": "code",
   "execution_count": null,
   "metadata": {},
   "outputs": [],
   "source": [
    "# 生成字符串的MD5码\n",
    "def generate_md5(input_string):\n",
    "    md5_object = hashlib.md5()\n",
    "    md5_object.update(input_string.encode('utf-8'))\n",
    "    return md5_object.hexdigest()"
   ]
  },
  {
   "cell_type": "code",
   "execution_count": null,
   "metadata": {},
   "outputs": [],
   "source": [
    "# 定义文件路径\n",
    "kpi_file = f'/home/sunyongqian/liuheng/aiops-scwarn/data/sc/yid/{id}/train_kpi.csv'\n",
    "log_file = f'/home/sunyongqian/liuheng/aiops-scwarn/data/sc/yid/{id}/train_log.csv'\n",
    "train_output_file = f'/home/sunyongqian/liuheng/aiops-scwarn/data/sc/yid/{id}/train_combined.csv'\n",
    "\n",
    "# 读取两个 CSV 文件\n",
    "kpi_df = pd.read_csv(kpi_file)\n",
    "log_df = pd.read_csv(log_file)\n",
    "\n",
    "# 确保两个 DataFrame 的行数相同\n",
    "if len(kpi_df) != len(log_df):\n",
    "    raise ValueError(\"两个 CSV 文件的行数不一致。请检查数据。\")\n",
    "\n",
    "# 合并 DataFrame\n",
    "combined_df = pd.concat([log_df,kpi_df], axis=1)\n",
    "\n",
    "# 获取原始列名并转换为MD5码\n",
    "md5_column_names = {col: generate_md5(col) for col in combined_df.columns}\n",
    "\n",
    "# 输出属性名的MD5码\n",
    "for original, md5_name in md5_column_names.items():\n",
    "    print(f\"Original column name: {original}, MD5 hash: {md5_name}\")\n",
    "\n",
    "# # 获取当前所有列名\n",
    "# original_columns = combined_df.columns\n",
    "# #修改输出后的列名\n",
    "# new_columns = [f'invariant_columns_{i}' for i in range(len(original_columns))]\n",
    "# combined_df.columns = new_columns\n",
    "\n",
    "# 修改最后一列的列名\n",
    "last_column_name = combined_df.columns[-1]\n",
    "combined_df.rename(columns={last_column_name: 'target_metric'}, inplace=True)\n",
    "\n",
    "# 保存合并后的数据到新文件\n",
    "combined_df.to_csv(train_output_file, index=False)\n",
    "\n",
    "# 目标目录\n",
    "target_dir = f'/home/sunyongqian/liuheng/shenchao/Lumos/results_{id}'\n",
    "# 确保目标目录存在，如果不存在则创建\n",
    "os.makedirs(target_dir, exist_ok=True)\n",
    "output_file = os.path.join(target_dir, 'train_combined.csv')\n",
    "combined_df.to_csv(output_file, index=False)\n",
    "\n",
    "print(f\"数据已成功合并并保存到 {output_file}\")"
   ]
  },
  {
   "cell_type": "code",
   "execution_count": null,
   "metadata": {},
   "outputs": [],
   "source": [
    "# 定义文件路径\n",
    "kpi_file = f'/home/sunyongqian/liuheng/aiops-scwarn/data/daily/yid/{id}/test_kpi.csv'\n",
    "log_file = f'/home/sunyongqian/liuheng/aiops-scwarn/data/daily/yid/{id}/test_log.csv'\n",
    "test_output_file = f'/home/sunyongqian/liuheng/aiops-scwarn/data/daily/yid/{id}/test_combined.csv'\n",
    "\n",
    "# 读取两个 CSV 文件\n",
    "kpi_df = pd.read_csv(kpi_file)\n",
    "log_df = pd.read_csv(log_file)\n",
    "\n",
    "# 确保两个 DataFrame 的行数相同\n",
    "if len(kpi_df) != len(log_df):\n",
    "    raise ValueError(\"两个 CSV 文件的行数不一致。请检查数据。\")\n",
    "\n",
    "# 合并 DataFrame\n",
    "combined_df = pd.concat([log_df,kpi_df], axis=1)\n",
    "\n",
    "# 获取原始列名并转换为MD5码\n",
    "md5_column_names = {col: generate_md5(col) for col in combined_df.columns}\n",
    "\n",
    "# 输出属性名的MD5码\n",
    "for original, md5_name in md5_column_names.items():\n",
    "    print(f\"Original column name: {original}, MD5 hash: {md5_name}\")\n",
    "\n",
    "# 修改最后一列的列名\n",
    "last_column_name = combined_df.columns[-1]\n",
    "combined_df.rename(columns={last_column_name: 'target_metric'}, inplace=True)\n",
    "\n",
    "# 保存合并后的数据到新文件\n",
    "combined_df.to_csv(test_output_file, index=False)\n",
    "\n",
    "# 目标目录\n",
    "target_dir = f'/home/sunyongqian/liuheng/shenchao/Lumos/results_{id}'\n",
    "# 确保目标目录存在，如果不存在则创建\n",
    "os.makedirs(target_dir, exist_ok=True)\n",
    "output_file = os.path.join(target_dir, 'test_combined.csv')\n",
    "combined_df.to_csv(output_file, index=False)\n",
    "print(f\"数据已成功合并并保存到 {output_file}\")"
   ]
  },
  {
   "cell_type": "code",
   "execution_count": 2,
   "metadata": {
    "execution": {
     "iopub.execute_input": "2024-09-10T13:31:25.877562Z",
     "iopub.status.busy": "2024-09-10T13:31:25.876973Z",
     "iopub.status.idle": "2024-09-10T13:31:26.022062Z",
     "shell.execute_reply": "2024-09-10T13:31:26.020970Z"
    }
   },
   "outputs": [],
   "source": [
    "control     = pd.read_csv(train_output_file,   na_values=[\"\", \"nan\", \"NaN\", \"#NULL#\", \"#NUL#\"])\n",
    "treatment   = pd.read_csv(test_output_file, na_values=[\"\", \"nan\", \"NaN\", \"#NULL#\", \"#NUL#\"])\n",
    "config_file = 'config_yid.json'\n",
    "with open(config_file) as file:\n",
    "    config = json.load(file)"
   ]
  },
  {
   "cell_type": "code",
   "execution_count": 3,
   "metadata": {
    "execution": {
     "iopub.execute_input": "2024-09-10T13:31:26.027882Z",
     "iopub.status.busy": "2024-09-10T13:31:26.027653Z",
     "iopub.status.idle": "2024-09-10T13:31:26.080858Z",
     "shell.execute_reply": "2024-09-10T13:31:26.079791Z"
    }
   },
   "outputs": [
    {
     "data": {
      "text/html": [
       "<div>\n",
       "<style scoped>\n",
       "    .dataframe tbody tr th:only-of-type {\n",
       "        vertical-align: middle;\n",
       "    }\n",
       "\n",
       "    .dataframe tbody tr th {\n",
       "        vertical-align: top;\n",
       "    }\n",
       "\n",
       "    .dataframe thead th {\n",
       "        text-align: right;\n",
       "    }\n",
       "</style>\n",
       "<table border=\"1\" class=\"dataframe\">\n",
       "  <thead>\n",
       "    <tr style=\"text-align: right;\">\n",
       "      <th></th>\n",
       "      <th>Percent Difference</th>\n",
       "      <th>Percent Control</th>\n",
       "      <th>Percent Treatment</th>\n",
       "      <th>P-Value</th>\n",
       "      <th>Is Stat-Sig</th>\n",
       "    </tr>\n",
       "  </thead>\n",
       "  <tbody>\n",
       "    <tr>\n",
       "      <th>0</th>\n",
       "      <td>-0.01388</td>\n",
       "      <td>0.93693</td>\n",
       "      <td>0.92305</td>\n",
       "      <td>5.419659e-34</td>\n",
       "      <td>True</td>\n",
       "    </tr>\n",
       "  </tbody>\n",
       "</table>\n",
       "</div>"
      ],
      "text/plain": [
       "   Percent Difference  Percent Control  Percent Treatment       P-Value  \\\n",
       "0            -0.01388          0.93693            0.92305  5.419659e-34   \n",
       "\n",
       "   Is Stat-Sig  \n",
       "0         True  "
      ]
     },
     "execution_count": 3,
     "metadata": {},
     "output_type": "execute_result"
    }
   ],
   "source": [
    "delta_comparer = MetricComparer(config)\n",
    "metric_delta = delta_comparer.compare(control, treatment)\n",
    "metric_delta"
   ]
  },
  {
   "cell_type": "code",
   "execution_count": 4,
   "metadata": {
    "execution": {
     "iopub.execute_input": "2024-09-10T13:31:26.086881Z",
     "iopub.status.busy": "2024-09-10T13:31:26.086644Z",
     "iopub.status.idle": "2024-09-10T13:31:26.347817Z",
     "shell.execute_reply": "2024-09-10T13:31:26.346756Z"
    }
   },
   "outputs": [
    {
     "data": {
      "text/html": [
       "<div>\n",
       "<style scoped>\n",
       "    .dataframe tbody tr th:only-of-type {\n",
       "        vertical-align: middle;\n",
       "    }\n",
       "\n",
       "    .dataframe tbody tr th {\n",
       "        vertical-align: top;\n",
       "    }\n",
       "\n",
       "    .dataframe thead th {\n",
       "        text-align: right;\n",
       "    }\n",
       "</style>\n",
       "<table border=\"1\" class=\"dataframe\">\n",
       "  <thead>\n",
       "    <tr style=\"text-align: right;\">\n",
       "      <th></th>\n",
       "      <th>feature</th>\n",
       "      <th>chi_square</th>\n",
       "      <th>p_value</th>\n",
       "      <th>dof</th>\n",
       "      <th>Percentage Deviation</th>\n",
       "      <th>num bins</th>\n",
       "      <th>resample</th>\n",
       "    </tr>\n",
       "  </thead>\n",
       "  <tbody>\n",
       "    <tr>\n",
       "      <th>0</th>\n",
       "      <td>country</td>\n",
       "      <td>5932.719164</td>\n",
       "      <td>0.000000e+00</td>\n",
       "      <td>13</td>\n",
       "      <td>7.1405</td>\n",
       "      <td>14</td>\n",
       "      <td>yes</td>\n",
       "    </tr>\n",
       "    <tr>\n",
       "      <th>1</th>\n",
       "      <td>platform</td>\n",
       "      <td>910.533358</td>\n",
       "      <td>4.594706e-197</td>\n",
       "      <td>3</td>\n",
       "      <td>2.9035</td>\n",
       "      <td>4</td>\n",
       "      <td>yes</td>\n",
       "    </tr>\n",
       "    <tr>\n",
       "      <th>4</th>\n",
       "      <td>city</td>\n",
       "      <td>5958.097785</td>\n",
       "      <td>0.000000e+00</td>\n",
       "      <td>36</td>\n",
       "      <td>1.9305</td>\n",
       "      <td>37</td>\n",
       "      <td>yes</td>\n",
       "    </tr>\n",
       "    <tr>\n",
       "      <th>5</th>\n",
       "      <td>network</td>\n",
       "      <td>275.556129</td>\n",
       "      <td>1.938026e-59</td>\n",
       "      <td>3</td>\n",
       "      <td>1.1075</td>\n",
       "      <td>4</td>\n",
       "      <td>yes</td>\n",
       "    </tr>\n",
       "    <tr>\n",
       "      <th>2</th>\n",
       "      <td>client_version</td>\n",
       "      <td>7.786619</td>\n",
       "      <td>5.557849e-01</td>\n",
       "      <td>9</td>\n",
       "      <td>0.1230</td>\n",
       "      <td>10</td>\n",
       "      <td>no</td>\n",
       "    </tr>\n",
       "    <tr>\n",
       "      <th>3</th>\n",
       "      <td>media</td>\n",
       "      <td>0.126772</td>\n",
       "      <td>9.385813e-01</td>\n",
       "      <td>2</td>\n",
       "      <td>0.0220</td>\n",
       "      <td>3</td>\n",
       "      <td>no</td>\n",
       "    </tr>\n",
       "  </tbody>\n",
       "</table>\n",
       "</div>"
      ],
      "text/plain": [
       "          feature   chi_square        p_value  dof  Percentage Deviation  \\\n",
       "0         country  5932.719164   0.000000e+00   13                7.1405   \n",
       "1        platform   910.533358  4.594706e-197    3                2.9035   \n",
       "4            city  5958.097785   0.000000e+00   36                1.9305   \n",
       "5         network   275.556129   1.938026e-59    3                1.1075   \n",
       "2  client_version     7.786619   5.557849e-01    9                0.1230   \n",
       "3           media     0.126772   9.385813e-01    2                0.0220   \n",
       "\n",
       "   num bins resample  \n",
       "0        14      yes  \n",
       "1         4      yes  \n",
       "4        37      yes  \n",
       "5         4      yes  \n",
       "2        10       no  \n",
       "3         3       no  "
      ]
     },
     "execution_count": 4,
     "metadata": {},
     "output_type": "execute_result"
    }
   ],
   "source": [
    "bias_tester = BiasTester(config)\n",
    "bias_results, deviation, is_biased = bias_tester.check_bias(control, treatment)\n",
    "bias_results"
   ]
  },
  {
   "cell_type": "code",
   "execution_count": 5,
   "metadata": {
    "execution": {
     "iopub.execute_input": "2024-09-10T13:31:26.353523Z",
     "iopub.status.busy": "2024-09-10T13:31:26.353312Z",
     "iopub.status.idle": "2024-09-10T13:31:28.990611Z",
     "shell.execute_reply": "2024-09-10T13:31:28.989493Z"
    }
   },
   "outputs": [
    {
     "data": {
      "text/html": [
       "<div>\n",
       "<style scoped>\n",
       "    .dataframe tbody tr th:only-of-type {\n",
       "        vertical-align: middle;\n",
       "    }\n",
       "\n",
       "    .dataframe tbody tr th {\n",
       "        vertical-align: top;\n",
       "    }\n",
       "\n",
       "    .dataframe thead th {\n",
       "        text-align: right;\n",
       "    }\n",
       "</style>\n",
       "<table border=\"1\" class=\"dataframe\">\n",
       "  <thead>\n",
       "    <tr style=\"text-align: right;\">\n",
       "      <th></th>\n",
       "      <th>feature</th>\n",
       "      <th>chi_square</th>\n",
       "      <th>p_value</th>\n",
       "      <th>dof</th>\n",
       "      <th>Percentage Deviation</th>\n",
       "      <th>num bins</th>\n",
       "      <th>resample</th>\n",
       "    </tr>\n",
       "  </thead>\n",
       "  <tbody>\n",
       "    <tr>\n",
       "      <th>0</th>\n",
       "      <td>country</td>\n",
       "      <td>7.649257</td>\n",
       "      <td>0.865676</td>\n",
       "      <td>13</td>\n",
       "      <td>0.199221</td>\n",
       "      <td>14</td>\n",
       "      <td>no</td>\n",
       "    </tr>\n",
       "    <tr>\n",
       "      <th>1</th>\n",
       "      <td>platform</td>\n",
       "      <td>0.934298</td>\n",
       "      <td>0.817144</td>\n",
       "      <td>3</td>\n",
       "      <td>0.116893</td>\n",
       "      <td>4</td>\n",
       "      <td>no</td>\n",
       "    </tr>\n",
       "    <tr>\n",
       "      <th>4</th>\n",
       "      <td>city</td>\n",
       "      <td>9.669949</td>\n",
       "      <td>0.999913</td>\n",
       "      <td>31</td>\n",
       "      <td>0.079814</td>\n",
       "      <td>32</td>\n",
       "      <td>no</td>\n",
       "    </tr>\n",
       "    <tr>\n",
       "      <th>2</th>\n",
       "      <td>client_version</td>\n",
       "      <td>3.028545</td>\n",
       "      <td>0.963152</td>\n",
       "      <td>9</td>\n",
       "      <td>0.076043</td>\n",
       "      <td>10</td>\n",
       "      <td>no</td>\n",
       "    </tr>\n",
       "    <tr>\n",
       "      <th>3</th>\n",
       "      <td>media</td>\n",
       "      <td>0.691694</td>\n",
       "      <td>0.707621</td>\n",
       "      <td>2</td>\n",
       "      <td>0.052790</td>\n",
       "      <td>3</td>\n",
       "      <td>no</td>\n",
       "    </tr>\n",
       "    <tr>\n",
       "      <th>5</th>\n",
       "      <td>network</td>\n",
       "      <td>0.295930</td>\n",
       "      <td>0.960792</td>\n",
       "      <td>3</td>\n",
       "      <td>0.044620</td>\n",
       "      <td>4</td>\n",
       "      <td>no</td>\n",
       "    </tr>\n",
       "  </tbody>\n",
       "</table>\n",
       "</div>"
      ],
      "text/plain": [
       "          feature  chi_square   p_value  dof  Percentage Deviation  num bins  \\\n",
       "0         country    7.649257  0.865676   13              0.199221        14   \n",
       "1        platform    0.934298  0.817144    3              0.116893         4   \n",
       "4            city    9.669949  0.999913   31              0.079814        32   \n",
       "2  client_version    3.028545  0.963152    9              0.076043        10   \n",
       "3           media    0.691694  0.707621    2              0.052790         3   \n",
       "5         network    0.295930  0.960792    3              0.044620         4   \n",
       "\n",
       "  resample  \n",
       "0       no  \n",
       "1       no  \n",
       "4       no  \n",
       "2       no  \n",
       "3       no  \n",
       "5       no  "
      ]
     },
     "execution_count": 5,
     "metadata": {},
     "output_type": "execute_result"
    }
   ],
   "source": [
    "n_control, n_treatment =bias_tester.normalize_bias(control, treatment, bias_results)\n",
    "n_bias_results, n_deviation, n_is_biased = bias_tester.check_bias(n_control, n_treatment)\n",
    "n_bias_results"
   ]
  },
  {
   "cell_type": "code",
   "execution_count": 6,
   "metadata": {
    "execution": {
     "iopub.execute_input": "2024-09-10T13:31:28.996420Z",
     "iopub.status.busy": "2024-09-10T13:31:28.996184Z",
     "iopub.status.idle": "2024-09-10T13:31:29.031707Z",
     "shell.execute_reply": "2024-09-10T13:31:29.030637Z"
    }
   },
   "outputs": [
    {
     "data": {
      "text/html": [
       "<div>\n",
       "<style scoped>\n",
       "    .dataframe tbody tr th:only-of-type {\n",
       "        vertical-align: middle;\n",
       "    }\n",
       "\n",
       "    .dataframe tbody tr th {\n",
       "        vertical-align: top;\n",
       "    }\n",
       "\n",
       "    .dataframe thead th {\n",
       "        text-align: right;\n",
       "    }\n",
       "</style>\n",
       "<table border=\"1\" class=\"dataframe\">\n",
       "  <thead>\n",
       "    <tr style=\"text-align: right;\">\n",
       "      <th></th>\n",
       "      <th>Percent Difference</th>\n",
       "      <th>Percent Control</th>\n",
       "      <th>Percent Treatment</th>\n",
       "      <th>P-Value</th>\n",
       "      <th>Is Stat-Sig</th>\n",
       "    </tr>\n",
       "  </thead>\n",
       "  <tbody>\n",
       "    <tr>\n",
       "      <th>0</th>\n",
       "      <td>-0.000817</td>\n",
       "      <td>0.933258</td>\n",
       "      <td>0.932441</td>\n",
       "      <td>0.521495</td>\n",
       "      <td>False</td>\n",
       "    </tr>\n",
       "  </tbody>\n",
       "</table>\n",
       "</div>"
      ],
      "text/plain": [
       "   Percent Difference  Percent Control  Percent Treatment   P-Value  \\\n",
       "0           -0.000817         0.933258           0.932441  0.521495   \n",
       "\n",
       "   Is Stat-Sig  \n",
       "0        False  "
      ]
     },
     "execution_count": 6,
     "metadata": {},
     "output_type": "execute_result"
    }
   ],
   "source": [
    "n_metric_delta = delta_comparer.compare(n_control, n_treatment)\n",
    "n_metric_delta"
   ]
  },
  {
   "cell_type": "code",
   "execution_count": null,
   "metadata": {},
   "outputs": [],
   "source": [
    "# 保存结果到文件夹\n",
    "metric_delta.to_csv(os.path.join(results_dir, 'metric_delta.csv'), index=False)\n",
    "bias_results.to_csv(os.path.join(results_dir, 'bias_results.csv'), index=False)\n",
    "n_bias_results.to_csv(os.path.join(results_dir, 'n_bias_results.csv'), index=False)\n",
    "n_metric_delta.to_csv(os.path.join(results_dir, 'n_metric_delta.csv'), index=False)"
   ]
  }
 ],
 "metadata": {
  "kernelspec": {
   "display_name": "Python 3",
   "language": "python",
   "name": "python3"
  },
  "language_info": {
   "codemirror_mode": {
    "name": "ipython",
    "version": 3
   },
   "file_extension": ".py",
   "mimetype": "text/x-python",
   "name": "python",
   "nbconvert_exporter": "python",
   "pygments_lexer": "ipython3",
   "version": "3.7.12"
  }
 },
 "nbformat": 4,
 "nbformat_minor": 2
}
